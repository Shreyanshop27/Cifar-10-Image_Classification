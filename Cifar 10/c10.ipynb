{
 "cells": [
  {
   "attachments": {},
   "cell_type": "markdown",
   "id": "949aa014",
   "metadata": {},
   "source": [
    "# 1. Importing and cleaning the dataset"
   ]
  },
  {
   "attachments": {},
   "cell_type": "markdown",
   "id": "14b0dced",
   "metadata": {},
   "source": [
    "**1.1** Unpickling the batch 1"
   ]
  },
  {
   "cell_type": "code",
   "execution_count": 71,
   "id": "1b1c8f2a",
   "metadata": {},
   "outputs": [],
   "source": [
    "def unpickle(file):\n",
    "    import pickle\n",
    "    with open(file, 'rb') as fo:\n",
    "        dict = pickle.load(fo, encoding='bytes')\n",
    "    return dict\n",
    "\n",
    "import numpy as np\n",
    "\n",
    "batch1_path= r'C:\\Users\\shreyansh verma\\Documents\\Work\\VS Code Projects\\Machine Learning\\Practice\\Cifar 10\\cifar-10-batches-py\\data_batch_1'\n",
    "batch1= unpickle(batch1_path)\n",
    "batch2_path= r'C:\\Users\\shreyansh verma\\Documents\\Work\\VS Code Projects\\Machine Learning\\Practice\\Cifar 10\\cifar-10-batches-py\\data_batch_2'\n",
    "batch2= unpickle(batch2_path)\n",
    "batch3_path= r'C:\\Users\\shreyansh verma\\Documents\\Work\\VS Code Projects\\Machine Learning\\Practice\\Cifar 10\\cifar-10-batches-py\\data_batch_3'\n",
    "batch3= unpickle(batch3_path)\n",
    "batch4_path= r'C:\\Users\\shreyansh verma\\Documents\\Work\\VS Code Projects\\Machine Learning\\Practice\\Cifar 10\\cifar-10-batches-py\\data_batch_4'\n",
    "batch4= unpickle(batch4_path)\n",
    "batch5_path= r'C:\\Users\\shreyansh verma\\Documents\\Work\\VS Code Projects\\Machine Learning\\Practice\\Cifar 10\\cifar-10-batches-py\\data_batch_5'\n",
    "batch5= unpickle(batch5_path)\n",
    "\n",
    "\n",
    "test_path= r'C:\\Users\\shreyansh verma\\Documents\\Work\\VS Code Projects\\Machine Learning\\Practice\\Cifar 10\\cifar-10-batches-py\\test_batch'\n",
    "test_data= unpickle(test_path)"
   ]
  },
  {
   "cell_type": "code",
   "execution_count": 72,
   "id": "065ca9c2",
   "metadata": {},
   "outputs": [],
   "source": [
    "import tensorflow as tf"
   ]
  },
  {
   "cell_type": "code",
   "execution_count": 73,
   "id": "ac50e219",
   "metadata": {},
   "outputs": [
    {
     "data": {
      "text/plain": [
       "(10000, 3072)"
      ]
     },
     "execution_count": 73,
     "metadata": {},
     "output_type": "execute_result"
    }
   ],
   "source": [
    "batch1[b'data'].shape"
   ]
  },
  {
   "attachments": {},
   "cell_type": "markdown",
   "id": "296c098a",
   "metadata": {},
   "source": [
    "**1.2** Reshaping and transposing `bathch1[b'data']`"
   ]
  },
  {
   "cell_type": "code",
   "execution_count": 74,
   "id": "4b84de04",
   "metadata": {},
   "outputs": [],
   "source": [
    "train1= tf.reshape(batch1[b'data'], (10_000,3,32,32))\n",
    "train1= tf.transpose(train1, (0,2,3,1))\n",
    "train1= train1/255\n",
    "\n",
    "train2= tf.reshape(batch2[b'data'], (10_000,3,32,32))\n",
    "train2= tf.transpose(train2, (0,2,3,1))\n",
    "train2= train2/255\n",
    "\n",
    "train3= tf.reshape(batch3[b'data'], (10_000,3,32,32))\n",
    "train3= tf.transpose(train3, (0,2,3,1))\n",
    "train3= train3/255\n",
    "\n",
    "train4= tf.reshape(batch4[b'data'], (10_000,3,32,32))\n",
    "train4= tf.transpose(train4, (0,2,3,1))\n",
    "train4= train4/255\n",
    "\n",
    "train5= tf.reshape(batch5[b'data'], (10_000,3,32,32))\n",
    "train5= tf.transpose(train5, (0,2,3,1))\n",
    "train5= train5/255"
   ]
  },
  {
   "cell_type": "code",
   "execution_count": 75,
   "id": "699f0a98",
   "metadata": {},
   "outputs": [
    {
     "data": {
      "text/plain": [
       "<matplotlib.image.AxesImage at 0x113b6b34d60>"
      ]
     },
     "execution_count": 75,
     "metadata": {},
     "output_type": "execute_result"
    },
    {
     "data": {
      "image/png": "[encoded data removed]",
      "text/plain": [
       "<Figure size 640x480 with 1 Axes>"
      ]
     },
     "metadata": {},
     "output_type": "display_data"
    }
   ],
   "source": [
    "import matplotlib.pyplot as plt\n",
    "plt.imshow(train5[0])"
   ]
  },
  {
   "attachments": {},
   "cell_type": "markdown",
   "id": "8536b38d",
   "metadata": {},
   "source": [
    "**1.3** one hot encoding `batch[b'labels']` "
   ]
  },
  {
   "cell_type": "code",
   "execution_count": 76,
   "id": "dad8e0ae",
   "metadata": {},
   "outputs": [],
   "source": [
    "import pandas as pd"
   ]
  },
  {
   "cell_type": "code",
   "execution_count": 77,
   "id": "aac8b2fc",
   "metadata": {},
   "outputs": [],
   "source": [
    "y1= tf.reshape(batch1[b'labels'], (-1,))\n",
    "y1 = pd.get_dummies(y1)\n",
    "\n",
    "y2= tf.reshape(batch2[b'labels'], (-1,))\n",
    "y2 = pd.get_dummies(y2)\n",
    "\n",
    "y3= tf.reshape(batch3[b'labels'], (-1,))\n",
    "y3 = pd.get_dummies(y3)\n",
    "\n",
    "y4= tf.reshape(batch4[b'labels'], (-1,))\n",
    "y4 = pd.get_dummies(y4)\n",
    "\n",
    "y5= tf.reshape(batch5[b'labels'], (-1,))\n",
    "# y5 = pd.get_dummies(y5)"
   ]
  },
  {
   "attachments": {},
   "cell_type": "markdown",
   "id": "086b5414",
   "metadata": {},
   "source": [
    "# 2 Training The Model"
   ]
  },
  {
   "cell_type": "code",
   "execution_count": 78,
   "id": "686fa6a7",
   "metadata": {},
   "outputs": [],
   "source": [
    "from tensorflow import keras\n",
    "from keras import layers, Sequential"
   ]
  },
  {
   "attachments": {},
   "cell_type": "markdown",
   "id": "9e88055a",
   "metadata": {},
   "source": [
    "**2.1** Making Neural Network"
   ]
  },
  {
   "cell_type": "code",
   "execution_count": 79,
   "id": "bd4ea2dc",
   "metadata": {},
   "outputs": [],
   "source": [
    "model= Sequential([\n",
    "    layers.Conv2D(10, kernel_size=(3,3), activation='relu',input_shape=(32,32,3)),\n",
    "    layers.MaxPool2D(pool_size=(2,2)),\n",
    "    layers.Flatten(),\n",
    "    layers.Dropout(0.3),\n",
    "    layers.Dense(64, activation='relu'),\n",
    "    layers.Dropout(0.3),\n",
    "    layers.Dense(64, activation='relu'),\n",
    "    layers.Dropout(0.3),\n",
    "    layers.Dense(10,activation='sigmoid')\n",
    "])"
   ]
  },
  {
   "attachments": {},
   "cell_type": "markdown",
   "id": "477f6e90",
   "metadata": {},
   "source": [
    "**2.2** Compiling the model"
   ]
  },
  {
   "cell_type": "code",
   "execution_count": 80,
   "id": "7bc1c62e",
   "metadata": {},
   "outputs": [],
   "source": [
    "model.compile(optimizer='adam', loss= 'categorical_crossentropy', metrics=['accuracy'])"
   ]
  },
  {
   "attachments": {},
   "cell_type": "markdown",
   "id": "5b546df2",
   "metadata": {},
   "source": [
    "**2.3** Fitting the model on `train1, train2, train3, train4`"
   ]
  },
  {
   "cell_type": "code",
   "execution_count": 81,
   "id": "653c8a6f",
   "metadata": {},
   "outputs": [
    {
     "name": "stdout",
     "output_type": "stream",
     "text": [
      "Epoch 1/10\n",
      "20/20 [==============================] - 7s 169ms/step - loss: 2.2744 - accuracy: 0.1333\n",
      "Epoch 2/10\n",
      "20/20 [==============================] - 4s 175ms/step - loss: 2.1583 - accuracy: 0.1957\n",
      "Epoch 3/10\n",
      "20/20 [==============================] - 4s 201ms/step - loss: 2.0426 - accuracy: 0.2371\n",
      "Epoch 4/10\n",
      "20/20 [==============================] - 3s 169ms/step - loss: 1.9485 - accuracy: 0.2666\n",
      "Epoch 5/10\n",
      "20/20 [==============================] - 3s 169ms/step - loss: 1.8714 - accuracy: 0.3015\n",
      "Epoch 6/10\n",
      "20/20 [==============================] - 3s 166ms/step - loss: 1.8168 - accuracy: 0.3255\n",
      "Epoch 7/10\n",
      "20/20 [==============================] - 3s 164ms/step - loss: 1.7613 - accuracy: 0.3551\n",
      "Epoch 8/10\n",
      "20/20 [==============================] - 3s 173ms/step - loss: 1.7363 - accuracy: 0.3541\n",
      "Epoch 9/10\n",
      "20/20 [==============================] - 4s 187ms/step - loss: 1.6884 - accuracy: 0.3810\n",
      "Epoch 10/10\n",
      "20/20 [==============================] - 3s 170ms/step - loss: 1.6541 - accuracy: 0.3877\n"
     ]
    }
   ],
   "source": [
    "history= model.fit(train1,y1,\n",
    "                   epochs= 10,\n",
    "                   batch_size= 500)"
   ]
  },
  {
   "cell_type": "code",
   "execution_count": 82,
   "id": "136ce477",
   "metadata": {},
   "outputs": [
    {
     "name": "stdout",
     "output_type": "stream",
     "text": [
      "Epoch 1/10\n",
      "20/20 [==============================] - 4s 178ms/step - loss: 1.6983 - accuracy: 0.3772\n",
      "Epoch 2/10\n",
      "20/20 [==============================] - 3s 165ms/step - loss: 1.6748 - accuracy: 0.3856\n",
      "Epoch 3/10\n",
      "20/20 [==============================] - 3s 172ms/step - loss: 1.6501 - accuracy: 0.3946\n",
      "Epoch 4/10\n",
      "20/20 [==============================] - 3s 167ms/step - loss: 1.6282 - accuracy: 0.4043\n",
      "Epoch 5/10\n",
      "20/20 [==============================] - 3s 170ms/step - loss: 1.5949 - accuracy: 0.4191\n",
      "Epoch 6/10\n",
      "20/20 [==============================] - 4s 174ms/step - loss: 1.5671 - accuracy: 0.4261\n",
      "Epoch 7/10\n",
      "20/20 [==============================] - 4s 180ms/step - loss: 1.5558 - accuracy: 0.4319\n",
      "Epoch 8/10\n",
      "20/20 [==============================] - 3s 168ms/step - loss: 1.5218 - accuracy: 0.4497\n",
      "Epoch 9/10\n",
      "20/20 [==============================] - 3s 169ms/step - loss: 1.5182 - accuracy: 0.4490\n",
      "Epoch 10/10\n",
      "20/20 [==============================] - 3s 172ms/step - loss: 1.5031 - accuracy: 0.4504\n"
     ]
    }
   ],
   "source": [
    "history= model.fit(train2,y2,\n",
    "                   epochs= 10,\n",
    "                   batch_size= 500)"
   ]
  },
  {
   "cell_type": "code",
   "execution_count": 83,
   "id": "6eaad1cd",
   "metadata": {},
   "outputs": [
    {
     "name": "stdout",
     "output_type": "stream",
     "text": [
      "Epoch 1/10\n",
      "20/20 [==============================] - 4s 176ms/step - loss: 1.5408 - accuracy: 0.4319\n",
      "Epoch 2/10\n",
      "20/20 [==============================] - 3s 165ms/step - loss: 1.5176 - accuracy: 0.4441\n",
      "Epoch 3/10\n",
      "20/20 [==============================] - 3s 166ms/step - loss: 1.4969 - accuracy: 0.4499\n",
      "Epoch 4/10\n",
      "20/20 [==============================] - 3s 165ms/step - loss: 1.4777 - accuracy: 0.4615\n",
      "Epoch 5/10\n",
      "20/20 [==============================] - 3s 166ms/step - loss: 1.4620 - accuracy: 0.4675\n",
      "Epoch 6/10\n",
      "20/20 [==============================] - 4s 221ms/step - loss: 1.4381 - accuracy: 0.4820\n",
      "Epoch 7/10\n",
      "20/20 [==============================] - 4s 182ms/step - loss: 1.4193 - accuracy: 0.4863\n",
      "Epoch 8/10\n",
      "20/20 [==============================] - 3s 170ms/step - loss: 1.4062 - accuracy: 0.4864\n",
      "Epoch 9/10\n",
      "20/20 [==============================] - 3s 173ms/step - loss: 1.3933 - accuracy: 0.4934\n",
      "Epoch 10/10\n",
      "20/20 [==============================] - 4s 173ms/step - loss: 1.3762 - accuracy: 0.4944\n"
     ]
    }
   ],
   "source": [
    "history= model.fit(train3,y3,\n",
    "                   epochs= 10,\n",
    "                   batch_size= 500)"
   ]
  },
  {
   "cell_type": "code",
   "execution_count": 84,
   "id": "9f38c654",
   "metadata": {},
   "outputs": [
    {
     "name": "stdout",
     "output_type": "stream",
     "text": [
      "Epoch 1/10\n",
      "20/20 [==============================] - 3s 174ms/step - loss: 1.5231 - accuracy: 0.4455\n",
      "Epoch 2/10\n",
      "20/20 [==============================] - 3s 164ms/step - loss: 1.4961 - accuracy: 0.4586\n",
      "Epoch 3/10\n",
      "20/20 [==============================] - 3s 164ms/step - loss: 1.4747 - accuracy: 0.4655\n",
      "Epoch 4/10\n",
      "20/20 [==============================] - 3s 164ms/step - loss: 1.4574 - accuracy: 0.4749\n",
      "Epoch 5/10\n",
      "20/20 [==============================] - 4s 213ms/step - loss: 1.4297 - accuracy: 0.4837\n",
      "Epoch 6/10\n",
      "20/20 [==============================] - 5s 241ms/step - loss: 1.4184 - accuracy: 0.4921\n",
      "Epoch 7/10\n",
      "20/20 [==============================] - 5s 252ms/step - loss: 1.4068 - accuracy: 0.4995\n",
      "Epoch 8/10\n",
      "20/20 [==============================] - 4s 226ms/step - loss: 1.3836 - accuracy: 0.5008\n",
      "Epoch 9/10\n",
      "20/20 [==============================] - 4s 194ms/step - loss: 1.3747 - accuracy: 0.5062\n",
      "Epoch 10/10\n",
      "20/20 [==============================] - 5s 232ms/step - loss: 1.3572 - accuracy: 0.5058\n"
     ]
    }
   ],
   "source": [
    "history= model.fit(train4,y4,\n",
    "                   epochs= 10,\n",
    "                   batch_size= 500)"
   ]
  },
  {
   "attachments": {},
   "cell_type": "markdown",
   "id": "b3b47aa1",
   "metadata": {},
   "source": [
    "# 3 Predicting"
   ]
  },
  {
   "attachments": {},
   "cell_type": "markdown",
   "id": "8da36cad",
   "metadata": {},
   "source": [
    "**3.1** Prediting the output"
   ]
  },
  {
   "cell_type": "code",
   "execution_count": 85,
   "id": "9b3d4f98",
   "metadata": {},
   "outputs": [
    {
     "name": "stdout",
     "output_type": "stream",
     "text": [
      "313/313 [==============================] - 4s 13ms/step\n"
     ]
    }
   ],
   "source": [
    "pred=model.predict(train5)"
   ]
  },
  {
   "cell_type": "code",
   "execution_count": 86,
   "id": "ed9214ca",
   "metadata": {},
   "outputs": [
    {
     "data": {
      "text/plain": [
       "array([[0.65436745, 0.5428415 , 0.48392382, ..., 0.10183767, 0.362925  ,\n",
       "        0.39987627],\n",
       "       [0.8160467 , 0.4972328 , 0.30365482, ..., 0.04383212, 0.9544427 ,\n",
       "        0.49319294],\n",
       "       [0.0841144 , 0.03445652, 0.5444111 , ..., 0.51983595, 0.03135237,\n",
       "        0.05524522],\n",
       "       ...,\n",
       "       [0.80310553, 0.5921826 , 0.13498457, ..., 0.20360842, 0.6726886 ,\n",
       "        0.9105956 ],\n",
       "       [0.67362696, 0.8227656 , 0.20975365, ..., 0.05018242, 0.8927132 ,\n",
       "        0.8653394 ],\n",
       "       [0.6698349 , 0.56033826, 0.3462686 , ..., 0.20313781, 0.69351566,\n",
       "        0.6477825 ]], dtype=float32)"
      ]
     },
     "execution_count": 86,
     "metadata": {},
     "output_type": "execute_result"
    }
   ],
   "source": [
    "pred"
   ]
  },
  {
   "attachments": {},
   "cell_type": "markdown",
   "id": "7735b236",
   "metadata": {},
   "source": [
    "**3.2** Getting the index of the max values"
   ]
  },
  {
   "cell_type": "code",
   "execution_count": 87,
   "id": "b5722f78",
   "metadata": {},
   "outputs": [],
   "source": [
    "import numpy as np\n",
    "max_index= np.argmax(pred, axis=1)"
   ]
  },
  {
   "cell_type": "code",
   "execution_count": 95,
   "id": "36064e65",
   "metadata": {},
   "outputs": [
    {
     "data": {
      "text/plain": [
       "array([0, 8, 5, ..., 9, 8, 8], dtype=int64)"
      ]
     },
     "execution_count": 95,
     "metadata": {},
     "output_type": "execute_result"
    }
   ],
   "source": [
    "max_index"
   ]
  },
  {
   "attachments": {},
   "cell_type": "markdown",
   "id": "86bf6ef4",
   "metadata": {},
   "source": [
    "# 4 Ploting"
   ]
  },
  {
   "attachments": {},
   "cell_type": "markdown",
   "id": "3976a555",
   "metadata": {},
   "source": [
    "**4.1** Defining `imgplt()`"
   ]
  },
  {
   "cell_type": "code",
   "execution_count": 99,
   "id": "b9ff24ee",
   "metadata": {},
   "outputs": [],
   "source": [
    "def imgplt(index,max_index,y=y5,data=train5):\n",
    "    data= data*255\n",
    "    data= data/255.0\n",
    "    id_name= [\"airplane\", \"automobile\", \"bird\", \"cat\", \"deer\", \"dog\", \"frog\", \"horse\", \"ship\", \"truck\"]\n",
    "    plt.imshow(data[index])\n",
    "    plt.xlabel(id_name[max_index[index]])\n",
    "    plt.ylabel(id_name[y5[index]])"
   ]
  },
  {
   "attachments": {},
   "cell_type": "markdown",
   "id": "5bfada15",
   "metadata": {},
   "source": [
    "**4.2** Ploting `imgplt()`, X_label= Prediction and Y_label= Actual_Result"
   ]
  },
  {
   "cell_type": "code",
   "execution_count": 103,
   "id": "67ea7887",
   "metadata": {},
   "outputs": [
    {
     "data": {
      "image/png": "[encoded data removed]",
      "text/plain": [
       "<Figure size 640x480 with 1 Axes>"
      ]
     },
     "metadata": {},
     "output_type": "display_data"
    }
   ],
   "source": [
    "imgplt(data=train5 ,index=8, max_index= max_index)"
   ]
  },
  {
   "cell_type": "code",
   "execution_count": null,
   "id": "c9284e46",
   "metadata": {},
   "outputs": [],
   "source": []
  }
 ],
 "metadata": {
  "kernelspec": {
   "display_name": "Python 3 (ipykernel)",
   "language": "python",
   "name": "python3"
  },
  "language_info": {
   "codemirror_mode": {
    "name": "ipython",
    "version": 3
   },
   "file_extension": ".py",
   "mimetype": "text/x-python",
   "name": "python",
   "nbconvert_exporter": "python",
   "pygments_lexer": "ipython3",
   "version": "3.10.9"
  }
 },
 "nbformat": 4,
 "nbformat_minor": 5
}
